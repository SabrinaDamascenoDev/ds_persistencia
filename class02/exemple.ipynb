{
 "cells": [
  {
   "cell_type": "code",
   "id": "initial_id",
   "metadata": {
    "collapsed": true,
    "ExecuteTime": {
     "end_time": "2025-09-17T12:03:54.182270Z",
     "start_time": "2025-09-17T12:03:54.159011Z"
    }
   },
   "source": "\"12332, sndhdr, 234, wfkjns, 234\".split(\",\")",
   "outputs": [
    {
     "data": {
      "text/plain": [
       "['12332', ' ksndcds', ' 234', ' wfkjns', ' 234']"
      ]
     },
     "execution_count": 1,
     "metadata": {},
     "output_type": "execute_result"
    }
   ],
   "execution_count": 1
  },
  {
   "metadata": {
    "ExecuteTime": {
     "end_time": "2025-09-17T12:13:11.468155Z",
     "start_time": "2025-09-17T12:13:11.073304Z"
    }
   },
   "cell_type": "code",
   "source": [
    "import pandas as pd\n",
    "\n",
    "df = pd.read_csv(\"../username.csv\")\n",
    "\n",
    "print(df)"
   ],
   "id": "9a8e7bc23557f093",
   "outputs": [
    {
     "name": "stdout",
     "output_type": "stream",
     "text": [
      "  Username; Identifier;First name;Last name\n",
      "0               booker12;9012;Rachel;Booker\n",
      "1                    grey07;2070;Laura;Grey\n",
      "2              johnson81;4081;Craig;Johnson\n",
      "3               jenkins46;9346;Mary;Jenkins\n",
      "4                  smith79;5079;Jamie;Smith\n"
     ]
    }
   ],
   "execution_count": 2
  }
 ],
 "metadata": {
  "kernelspec": {
   "display_name": "Python 3",
   "language": "python",
   "name": "python3"
  },
  "language_info": {
   "codemirror_mode": {
    "name": "ipython",
    "version": 2
   },
   "file_extension": ".py",
   "mimetype": "text/x-python",
   "name": "python",
   "nbconvert_exporter": "python",
   "pygments_lexer": "ipython2",
   "version": "2.7.6"
  }
 },
 "nbformat": 4,
 "nbformat_minor": 5
}
